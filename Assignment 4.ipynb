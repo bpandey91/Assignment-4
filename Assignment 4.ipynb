{
 "cells": [
  {
   "cell_type": "code",
   "execution_count": 1,
   "id": "01a26624",
   "metadata": {},
   "outputs": [],
   "source": [
    "#Assignment4\n",
    "#1. What exactly is []?\n",
    "# squar bracket is a sign of list [] this means blank list where we can store list value."
   ]
  },
  {
   "cell_type": "code",
   "execution_count": null,
   "id": "62eaebfd",
   "metadata": {},
   "outputs": [],
   "source": [
    "#2. In a list of values stored in a variable called spam, how would you assign the value 'hello' as the third value? (Assume [2, 4, 6, 8, 10] are in spam.)\n",
    "#Answer:\n",
    "example\n",
    "spam=[\"a\",\"b\",\"c\",\"d\"]   # lets assume this is our list called spam\n",
    "spam[2]=\"hello\"      #we are assign the value \"hello\" as a third value\n",
    "\n",
    "#output\n",
    "spam=['a','b','hello','d']"
   ]
  },
  {
   "cell_type": "code",
   "execution_count": null,
   "id": "0102695c",
   "metadata": {},
   "outputs": [],
   "source": [
    "#Let's pretend the spam includes the list ['a', 'b', 'c', 'd'] for the next three queries.\n",
    "\n",
    "#3. What is the value of spam[int(int('3' * 2) / 11)]?\n",
    "#Answer\n",
    "#because '3' is looks like string because of this it will show error while running.\n",
    "#Output\n",
    "\"unexpected EOF while parsing\""
   ]
  },
  {
   "cell_type": "code",
   "execution_count": null,
   "id": "84cfdcd5",
   "metadata": {},
   "outputs": [],
   "source": [
    "#4. What is the value of spam[-1]?\n",
    "#Answer\n",
    "'d'"
   ]
  },
  {
   "cell_type": "code",
   "execution_count": null,
   "id": "ffe2f5a2",
   "metadata": {},
   "outputs": [],
   "source": [
    "#5. What is the value of spam[:2]?\n",
    "#Answer\n",
    "['a', 'b']"
   ]
  },
  {
   "cell_type": "code",
   "execution_count": null,
   "id": "a3c8315d",
   "metadata": {},
   "outputs": [],
   "source": [
    "##Let's pretend bacon has the list [3.14, 'cat',11, 'cat', True] for the next three questions.\n",
    "\n",
    "\n",
    "#6. What is the value of bacon.index('cat')?\n",
    "#Answer\n",
    "1"
   ]
  },
  {
   "cell_type": "code",
   "execution_count": null,
   "id": "c1fccfb2",
   "metadata": {},
   "outputs": [],
   "source": [
    "#7. How does bacon.append(99) change the look of the list value in bacon?\n",
    "#Answer\n",
    "[3.14, 'cat', 11, 'cat', True, 99]"
   ]
  },
  {
   "cell_type": "code",
   "execution_count": null,
   "id": "fb30afba",
   "metadata": {},
   "outputs": [],
   "source": [
    "#8. How does bacon.remove('cat') change the look of the list in bacon?\n",
    "#Answer\n",
    "bacon.remove(\"cat\")\n",
    "bacon.remove(\"cat\")\n",
    "\n",
    "[3.14, 11,'cat', True, 99]"
   ]
  },
  {
   "cell_type": "code",
   "execution_count": null,
   "id": "7ee4cc06",
   "metadata": {},
   "outputs": [],
   "source": [
    "#9. What are the list concatenation and list replication operators?\n",
    "#Answer\n",
    "#operator for list concatenation is +\n",
    "#operator for list replication is *"
   ]
  },
  {
   "cell_type": "code",
   "execution_count": null,
   "id": "ad5d1e8f",
   "metadata": {},
   "outputs": [],
   "source": [
    "#10. What is difference between the list methods append() and insert()?\n",
    "#Answer\n",
    "\"\"\"the only difference in append and insert is that in insert we can add our element any where in list but in append we can only store new element in end of the list \"\"\""
   ]
  },
  {
   "cell_type": "code",
   "execution_count": null,
   "id": "05e46904",
   "metadata": {},
   "outputs": [],
   "source": [
    "#11. What are the two methods for removing items from a list?\n",
    "#Answer\n",
    "remove()\n",
    "pop()"
   ]
  },
  {
   "cell_type": "code",
   "execution_count": null,
   "id": "5e6d5db0",
   "metadata": {},
   "outputs": [],
   "source": [
    "#12. Describe how list values and string values are identical.\n",
    "#Answer\n",
    "the element's comes under squar bracket[] are list value.\n",
    "any we write under \"\",\"\"\" \"\"\",'' are string values"
   ]
  },
  {
   "cell_type": "code",
   "execution_count": null,
   "id": "c90dd75e",
   "metadata": {},
   "outputs": [],
   "source": [
    "#13. What's the difference between tuples and lists?\n",
    "#Answer\n",
    "list are mutable tuple are unmutable. it can be modified, list can be modified\n",
    "list consumes more memory tuple consumes less memory , tuple can't be modified"
   ]
  },
  {
   "cell_type": "code",
   "execution_count": null,
   "id": "dd78dddf",
   "metadata": {},
   "outputs": [],
   "source": [
    "#14. How do you type a tuple value that only contains the integer 42?\n",
    "#Answer\n",
    "(42)"
   ]
  },
  {
   "cell_type": "code",
   "execution_count": null,
   "id": "d23cc4f3",
   "metadata": {},
   "outputs": [],
   "source": [
    "#15. How do you get a list value's tuple form? How do you get a tuple value's list form?\n",
    "#Answer\n",
    "#How do you get a list value's tuple form\n",
    "example\n",
    "a=['q','w','e']\n",
    "a=tuple(a)\n",
    "\n",
    "a=('q','w','e')\n",
    "list(a)"
   ]
  },
  {
   "cell_type": "code",
   "execution_count": null,
   "id": "30a7acbf",
   "metadata": {},
   "outputs": [],
   "source": [
    "#16. Variables that \"contain\" list values are not necessarily lists themselves. Instead, what do they contain?\n",
    "#Answer\n",
    "\"\"\"Variables will contain references to list values rather than list values themselves. But for strings and integer values, variables simply contain the string or integer value. Python uses references whenever variables must store values of mutable data types, such as lists or dictionaries.\"\"\""
   ]
  },
  {
   "cell_type": "code",
   "execution_count": null,
   "id": "8e692163",
   "metadata": {},
   "outputs": [],
   "source": [
    "#17. How do you distinguish between copy.copy() and copy.deepcopy()?\n",
    "#Answer\n",
    "#Use copy.copy() if you want to make a shallow copy of an object for which the copy() method is not provided.\n",
    "#In a deep copy, copies are inserted instead of references to objects, so changing one does not change the other."
   ]
  },
  {
   "cell_type": "code",
   "execution_count": null,
   "id": "1bf3788c",
   "metadata": {},
   "outputs": [],
   "source": []
  }
 ],
 "metadata": {
  "kernelspec": {
   "display_name": "Python 3 (ipykernel)",
   "language": "python",
   "name": "python3"
  },
  "language_info": {
   "codemirror_mode": {
    "name": "ipython",
    "version": 3
   },
   "file_extension": ".py",
   "mimetype": "text/x-python",
   "name": "python",
   "nbconvert_exporter": "python",
   "pygments_lexer": "ipython3",
   "version": "3.9.7"
  }
 },
 "nbformat": 4,
 "nbformat_minor": 5
}
